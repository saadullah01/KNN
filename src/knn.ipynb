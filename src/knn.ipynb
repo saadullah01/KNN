{
 "cells": [
  {
   "cell_type": "markdown",
   "metadata": {},
   "source": [
    "### Necessary Imports"
   ]
  },
  {
   "cell_type": "code",
   "execution_count": 300,
   "metadata": {},
   "outputs": [],
   "source": [
    "import numpy as np\n",
    "import pandas as pd\n",
    "import matplotlib.pyplot as plt\n",
    "import seaborn as sn\n",
    "import random\n",
    "import math\n",
    "from IPython.display import clear_output\n",
    "%matplotlib inline"
   ]
  },
  {
   "cell_type": "markdown",
   "metadata": {},
   "source": [
    "### Loading Datasets"
   ]
  },
  {
   "cell_type": "markdown",
   "metadata": {},
   "source": [
    "***Train Dataset***"
   ]
  },
  {
   "cell_type": "code",
   "execution_count": 301,
   "metadata": {},
   "outputs": [
    {
     "data": {
      "text/html": [
       "<div>\n",
       "<style scoped>\n",
       "    .dataframe tbody tr th:only-of-type {\n",
       "        vertical-align: middle;\n",
       "    }\n",
       "\n",
       "    .dataframe tbody tr th {\n",
       "        vertical-align: top;\n",
       "    }\n",
       "\n",
       "    .dataframe thead th {\n",
       "        text-align: right;\n",
       "    }\n",
       "</style>\n",
       "<table border=\"1\" class=\"dataframe\">\n",
       "  <thead>\n",
       "    <tr style=\"text-align: right;\">\n",
       "      <th></th>\n",
       "      <th>x1</th>\n",
       "      <th>x2</th>\n",
       "      <th>x3</th>\n",
       "      <th>x4</th>\n",
       "      <th>label</th>\n",
       "    </tr>\n",
       "  </thead>\n",
       "  <tbody>\n",
       "    <tr>\n",
       "      <th>0</th>\n",
       "      <td>5.1</td>\n",
       "      <td>3.5</td>\n",
       "      <td>1.4</td>\n",
       "      <td>0.2</td>\n",
       "      <td>Iris-setosa</td>\n",
       "    </tr>\n",
       "    <tr>\n",
       "      <th>1</th>\n",
       "      <td>4.9</td>\n",
       "      <td>3.0</td>\n",
       "      <td>1.4</td>\n",
       "      <td>0.2</td>\n",
       "      <td>Iris-setosa</td>\n",
       "    </tr>\n",
       "    <tr>\n",
       "      <th>2</th>\n",
       "      <td>4.7</td>\n",
       "      <td>3.2</td>\n",
       "      <td>1.3</td>\n",
       "      <td>0.2</td>\n",
       "      <td>Iris-setosa</td>\n",
       "    </tr>\n",
       "    <tr>\n",
       "      <th>3</th>\n",
       "      <td>4.6</td>\n",
       "      <td>3.1</td>\n",
       "      <td>1.5</td>\n",
       "      <td>0.2</td>\n",
       "      <td>Iris-setosa</td>\n",
       "    </tr>\n",
       "    <tr>\n",
       "      <th>4</th>\n",
       "      <td>5.0</td>\n",
       "      <td>3.6</td>\n",
       "      <td>1.4</td>\n",
       "      <td>0.2</td>\n",
       "      <td>Iris-setosa</td>\n",
       "    </tr>\n",
       "  </tbody>\n",
       "</table>\n",
       "</div>"
      ],
      "text/plain": [
       "    x1   x2   x3   x4        label\n",
       "0  5.1  3.5  1.4  0.2  Iris-setosa\n",
       "1  4.9  3.0  1.4  0.2  Iris-setosa\n",
       "2  4.7  3.2  1.3  0.2  Iris-setosa\n",
       "3  4.6  3.1  1.5  0.2  Iris-setosa\n",
       "4  5.0  3.6  1.4  0.2  Iris-setosa"
      ]
     },
     "execution_count": 301,
     "metadata": {},
     "output_type": "execute_result"
    }
   ],
   "source": [
    "train_df = pd.read_csv(\"train.csv\", names=[\"x1\", \"x2\", \"x3\", \"x4\", \"label\"])\n",
    "train_df.head()"
   ]
  },
  {
   "cell_type": "code",
   "execution_count": 302,
   "metadata": {},
   "outputs": [
    {
     "data": {
      "text/plain": [
       "(135, 5)"
      ]
     },
     "execution_count": 302,
     "metadata": {},
     "output_type": "execute_result"
    }
   ],
   "source": [
    "train_df.shape"
   ]
  },
  {
   "cell_type": "markdown",
   "metadata": {},
   "source": [
    "***Test Dataset***"
   ]
  },
  {
   "cell_type": "code",
   "execution_count": 303,
   "metadata": {},
   "outputs": [
    {
     "data": {
      "text/html": [
       "<div>\n",
       "<style scoped>\n",
       "    .dataframe tbody tr th:only-of-type {\n",
       "        vertical-align: middle;\n",
       "    }\n",
       "\n",
       "    .dataframe tbody tr th {\n",
       "        vertical-align: top;\n",
       "    }\n",
       "\n",
       "    .dataframe thead th {\n",
       "        text-align: right;\n",
       "    }\n",
       "</style>\n",
       "<table border=\"1\" class=\"dataframe\">\n",
       "  <thead>\n",
       "    <tr style=\"text-align: right;\">\n",
       "      <th></th>\n",
       "      <th>x1</th>\n",
       "      <th>x2</th>\n",
       "      <th>x3</th>\n",
       "      <th>x4</th>\n",
       "      <th>label</th>\n",
       "    </tr>\n",
       "  </thead>\n",
       "  <tbody>\n",
       "    <tr>\n",
       "      <th>0</th>\n",
       "      <td>4.8</td>\n",
       "      <td>3.0</td>\n",
       "      <td>1.4</td>\n",
       "      <td>0.3</td>\n",
       "      <td>Iris-setosa</td>\n",
       "    </tr>\n",
       "    <tr>\n",
       "      <th>1</th>\n",
       "      <td>5.1</td>\n",
       "      <td>3.8</td>\n",
       "      <td>1.6</td>\n",
       "      <td>0.2</td>\n",
       "      <td>Iris-setosa</td>\n",
       "    </tr>\n",
       "    <tr>\n",
       "      <th>2</th>\n",
       "      <td>4.6</td>\n",
       "      <td>3.2</td>\n",
       "      <td>1.4</td>\n",
       "      <td>0.2</td>\n",
       "      <td>Iris-setosa</td>\n",
       "    </tr>\n",
       "    <tr>\n",
       "      <th>3</th>\n",
       "      <td>5.3</td>\n",
       "      <td>3.7</td>\n",
       "      <td>1.5</td>\n",
       "      <td>0.2</td>\n",
       "      <td>Iris-setosa</td>\n",
       "    </tr>\n",
       "    <tr>\n",
       "      <th>4</th>\n",
       "      <td>5.0</td>\n",
       "      <td>3.3</td>\n",
       "      <td>1.4</td>\n",
       "      <td>0.2</td>\n",
       "      <td>Iris-setosa</td>\n",
       "    </tr>\n",
       "  </tbody>\n",
       "</table>\n",
       "</div>"
      ],
      "text/plain": [
       "    x1   x2   x3   x4        label\n",
       "0  4.8  3.0  1.4  0.3  Iris-setosa\n",
       "1  5.1  3.8  1.6  0.2  Iris-setosa\n",
       "2  4.6  3.2  1.4  0.2  Iris-setosa\n",
       "3  5.3  3.7  1.5  0.2  Iris-setosa\n",
       "4  5.0  3.3  1.4  0.2  Iris-setosa"
      ]
     },
     "execution_count": 303,
     "metadata": {},
     "output_type": "execute_result"
    }
   ],
   "source": [
    "test_df = pd.read_csv(\"test.csv\", names=[\"x1\", \"x2\", \"x3\", \"x4\", \"label\"])\n",
    "test_df.head()"
   ]
  },
  {
   "cell_type": "code",
   "execution_count": 304,
   "metadata": {},
   "outputs": [
    {
     "data": {
      "text/plain": [
       "(15, 5)"
      ]
     },
     "execution_count": 304,
     "metadata": {},
     "output_type": "execute_result"
    }
   ],
   "source": [
    "test_df.shape"
   ]
  },
  {
   "cell_type": "markdown",
   "metadata": {},
   "source": [
    "### Analysing Training Dataset"
   ]
  },
  {
   "cell_type": "code",
   "execution_count": 305,
   "metadata": {},
   "outputs": [
    {
     "name": "stdout",
     "output_type": "stream",
     "text": [
      "Classes: ['Iris-setosa', 'Iris-versicolor', 'Iris-virginica'] \n",
      "Number of features: 4\n"
     ]
    }
   ],
   "source": [
    "num_of_features = 4\n",
    "classes = sorted(train_df['label'].unique())\n",
    "print(\"Classes:\", classes, \"\\nNumber of features:\", num_of_features)"
   ]
  },
  {
   "cell_type": "markdown",
   "metadata": {},
   "source": [
    "***Dataset is equally distributed***"
   ]
  },
  {
   "cell_type": "code",
   "execution_count": 306,
   "metadata": {},
   "outputs": [
    {
     "data": {
      "text/plain": [
       "Text(0.5, 0, 'Labels')"
      ]
     },
     "execution_count": 306,
     "metadata": {},
     "output_type": "execute_result"
    },
    {
     "data": {
      "image/png": "[encoded data removed]",
      "text/plain": [
       "<Figure size 432x288 with 1 Axes>"
      ]
     },
     "metadata": {
      "needs_background": "light"
     },
     "output_type": "display_data"
    }
   ],
   "source": [
    "ax = (train_df['label'].value_counts(normalize=True)*100).plot(\n",
    "        kind=\"bar\", title='Percentage of Specific Labeled Data in given Dataset')\n",
    "ax.tick_params(axis='x', labelrotation=0)\n",
    "ax.set_ylabel('Percentages %')\n",
    "ax.set_xlabel('Labels')"
   ]
  },
  {
   "cell_type": "markdown",
   "metadata": {},
   "source": [
    "### Preprocessing"
   ]
  },
  {
   "cell_type": "markdown",
   "metadata": {},
   "source": [
    "* ***Label Encoding***"
   ]
  },
  {
   "cell_type": "code",
   "execution_count": 307,
   "metadata": {},
   "outputs": [],
   "source": [
    "def LabelEncoder(df):\n",
    "    '''\n",
    "        Encodes 'label' column of the Dataframe\n",
    "        \n",
    "        Arguments\n",
    "        ---------\n",
    "        df : Pandas Dataframe\n",
    "            Dataframe of shape (m, n), where m is number of rows and n is the number of columns\n",
    "    '''\n",
    "    df['label'] = df['label'].astype('category')\n",
    "    df['encoded_labels'] = df['label'].cat.codes"
   ]
  },
  {
   "cell_type": "code",
   "execution_count": 308,
   "metadata": {},
   "outputs": [],
   "source": [
    "# Train Dataset\n",
    "LabelEncoder(train_df)\n",
    "train_df = train_df.drop(columns=[\"label\"])\n",
    "train_df = train_df.rename(columns={\"encoded_labels\": \"label\"})\n",
    "\n",
    "# Test Dataset\n",
    "LabelEncoder(test_df)\n",
    "test_df = test_df.drop(columns=[\"label\"])\n",
    "test_df = test_df.rename(columns={\"encoded_labels\": \"label\"})"
   ]
  },
  {
   "cell_type": "code",
   "execution_count": 309,
   "metadata": {},
   "outputs": [
    {
     "data": {
      "text/html": [
       "<div>\n",
       "<style scoped>\n",
       "    .dataframe tbody tr th:only-of-type {\n",
       "        vertical-align: middle;\n",
       "    }\n",
       "\n",
       "    .dataframe tbody tr th {\n",
       "        vertical-align: top;\n",
       "    }\n",
       "\n",
       "    .dataframe thead th {\n",
       "        text-align: right;\n",
       "    }\n",
       "</style>\n",
       "<table border=\"1\" class=\"dataframe\">\n",
       "  <thead>\n",
       "    <tr style=\"text-align: right;\">\n",
       "      <th></th>\n",
       "      <th>x1</th>\n",
       "      <th>x2</th>\n",
       "      <th>x3</th>\n",
       "      <th>x4</th>\n",
       "      <th>label</th>\n",
       "    </tr>\n",
       "  </thead>\n",
       "  <tbody>\n",
       "    <tr>\n",
       "      <th>0</th>\n",
       "      <td>5.1</td>\n",
       "      <td>3.5</td>\n",
       "      <td>1.4</td>\n",
       "      <td>0.2</td>\n",
       "      <td>0</td>\n",
       "    </tr>\n",
       "    <tr>\n",
       "      <th>1</th>\n",
       "      <td>4.9</td>\n",
       "      <td>3.0</td>\n",
       "      <td>1.4</td>\n",
       "      <td>0.2</td>\n",
       "      <td>0</td>\n",
       "    </tr>\n",
       "    <tr>\n",
       "      <th>2</th>\n",
       "      <td>4.7</td>\n",
       "      <td>3.2</td>\n",
       "      <td>1.3</td>\n",
       "      <td>0.2</td>\n",
       "      <td>0</td>\n",
       "    </tr>\n",
       "    <tr>\n",
       "      <th>3</th>\n",
       "      <td>4.6</td>\n",
       "      <td>3.1</td>\n",
       "      <td>1.5</td>\n",
       "      <td>0.2</td>\n",
       "      <td>0</td>\n",
       "    </tr>\n",
       "    <tr>\n",
       "      <th>4</th>\n",
       "      <td>5.0</td>\n",
       "      <td>3.6</td>\n",
       "      <td>1.4</td>\n",
       "      <td>0.2</td>\n",
       "      <td>0</td>\n",
       "    </tr>\n",
       "  </tbody>\n",
       "</table>\n",
       "</div>"
      ],
      "text/plain": [
       "    x1   x2   x3   x4  label\n",
       "0  5.1  3.5  1.4  0.2      0\n",
       "1  4.9  3.0  1.4  0.2      0\n",
       "2  4.7  3.2  1.3  0.2      0\n",
       "3  4.6  3.1  1.5  0.2      0\n",
       "4  5.0  3.6  1.4  0.2      0"
      ]
     },
     "execution_count": 309,
     "metadata": {},
     "output_type": "execute_result"
    }
   ],
   "source": [
    "train_df.head()"
   ]
  },
  {
   "cell_type": "code",
   "execution_count": 310,
   "metadata": {},
   "outputs": [
    {
     "data": {
      "text/html": [
       "<div>\n",
       "<style scoped>\n",
       "    .dataframe tbody tr th:only-of-type {\n",
       "        vertical-align: middle;\n",
       "    }\n",
       "\n",
       "    .dataframe tbody tr th {\n",
       "        vertical-align: top;\n",
       "    }\n",
       "\n",
       "    .dataframe thead th {\n",
       "        text-align: right;\n",
       "    }\n",
       "</style>\n",
       "<table border=\"1\" class=\"dataframe\">\n",
       "  <thead>\n",
       "    <tr style=\"text-align: right;\">\n",
       "      <th></th>\n",
       "      <th>x1</th>\n",
       "      <th>x2</th>\n",
       "      <th>x3</th>\n",
       "      <th>x4</th>\n",
       "      <th>label</th>\n",
       "    </tr>\n",
       "  </thead>\n",
       "  <tbody>\n",
       "    <tr>\n",
       "      <th>0</th>\n",
       "      <td>4.8</td>\n",
       "      <td>3.0</td>\n",
       "      <td>1.4</td>\n",
       "      <td>0.3</td>\n",
       "      <td>0</td>\n",
       "    </tr>\n",
       "    <tr>\n",
       "      <th>1</th>\n",
       "      <td>5.1</td>\n",
       "      <td>3.8</td>\n",
       "      <td>1.6</td>\n",
       "      <td>0.2</td>\n",
       "      <td>0</td>\n",
       "    </tr>\n",
       "    <tr>\n",
       "      <th>2</th>\n",
       "      <td>4.6</td>\n",
       "      <td>3.2</td>\n",
       "      <td>1.4</td>\n",
       "      <td>0.2</td>\n",
       "      <td>0</td>\n",
       "    </tr>\n",
       "    <tr>\n",
       "      <th>3</th>\n",
       "      <td>5.3</td>\n",
       "      <td>3.7</td>\n",
       "      <td>1.5</td>\n",
       "      <td>0.2</td>\n",
       "      <td>0</td>\n",
       "    </tr>\n",
       "    <tr>\n",
       "      <th>4</th>\n",
       "      <td>5.0</td>\n",
       "      <td>3.3</td>\n",
       "      <td>1.4</td>\n",
       "      <td>0.2</td>\n",
       "      <td>0</td>\n",
       "    </tr>\n",
       "  </tbody>\n",
       "</table>\n",
       "</div>"
      ],
      "text/plain": [
       "    x1   x2   x3   x4  label\n",
       "0  4.8  3.0  1.4  0.3      0\n",
       "1  5.1  3.8  1.6  0.2      0\n",
       "2  4.6  3.2  1.4  0.2      0\n",
       "3  5.3  3.7  1.5  0.2      0\n",
       "4  5.0  3.3  1.4  0.2      0"
      ]
     },
     "execution_count": 310,
     "metadata": {},
     "output_type": "execute_result"
    }
   ],
   "source": [
    "test_df.head()"
   ]
  },
  {
   "cell_type": "markdown",
   "metadata": {},
   "source": [
    "* ***Feature Normalization***"
   ]
  },
  {
   "cell_type": "markdown",
   "metadata": {},
   "source": [
    "As KNN does not make assumptions about the distribution of the data and we also do not have any knowledge about the data distribution. That's why we need to normalize our features to avoid the effect of any one feature (i.e. dimension) on the classification decision."
   ]
  },
  {
   "cell_type": "code",
   "execution_count": 311,
   "metadata": {},
   "outputs": [],
   "source": [
    "def mean_normalize(df, columns):\n",
    "    '''\n",
    "        Mean normalizes given columns of the Dataframe\n",
    "        \n",
    "        Arguments\n",
    "        ---------\n",
    "        df : Pandas Dataframe\n",
    "            Dataframe of shape (m, n), where m is number of rows and n is the number of columns\n",
    "            \n",
    "        columns: list\n",
    "            Array of shape (m, ), where m is the number of columns you want to normalize\n",
    "    '''\n",
    "    for col in columns:\n",
    "        df[col] = (df[col]-df[col].mean()) / (df[col].std())"
   ]
  },
  {
   "cell_type": "code",
   "execution_count": 312,
   "metadata": {},
   "outputs": [],
   "source": [
    "mean_normalize(train_df, [\"x1\", \"x2\", \"x3\", \"x4\"])\n",
    "mean_normalize(test_df, [\"x1\", \"x2\", \"x3\", \"x4\"])"
   ]
  },
  {
   "cell_type": "markdown",
   "metadata": {},
   "source": [
    "* ***Vectorization & Separation of Features and Labels***"
   ]
  },
  {
   "cell_type": "code",
   "execution_count": 313,
   "metadata": {},
   "outputs": [],
   "source": [
    "def preprocessor(df, n):\n",
    "    '''\n",
    "        Converts Dataframe to a list of JSON objects, separating 'features' and 'label'\n",
    "        \n",
    "        Arguments\n",
    "        ---------\n",
    "        df : Pandas Dataframe\n",
    "            Dataframe of shape (m, n), where m is number of rows and n is the number of columns\n",
    "            \n",
    "        n: int\n",
    "            Number of features\n",
    "        \n",
    "        Returns\n",
    "        -------\n",
    "        data: list of JSON Objects\n",
    "            Array of shape (m, ), where m is number of instances and every element is a JSON object with \n",
    "            2 keys 'features' that is a NUMPY array of shape (n, ) where n is the number of features and \n",
    "            'label' is an integer representing encoded label of that instance\n",
    "    '''\n",
    "    data = list()\n",
    "    for _, row in df.iterrows():\n",
    "        temp = np.array(row)\n",
    "        data.append({'features': temp[0:n], 'label': int(temp[n])})\n",
    "    return data"
   ]
  },
  {
   "cell_type": "code",
   "execution_count": 314,
   "metadata": {},
   "outputs": [],
   "source": [
    "# Train Dataset\n",
    "train = preprocessor(train_df, num_of_features)"
   ]
  },
  {
   "cell_type": "code",
   "execution_count": 315,
   "metadata": {},
   "outputs": [],
   "source": [
    "# Test Dataset\n",
    "test = preprocessor(test_df, num_of_features)"
   ]
  },
  {
   "cell_type": "markdown",
   "metadata": {},
   "source": [
    "### Predicting Label"
   ]
  },
  {
   "cell_type": "markdown",
   "metadata": {},
   "source": [
    "* **Function to find K Nearest Neighbours using** ***QuickSelect*** **and** ***Order Statistics*** **in O(n)**"
   ]
  },
  {
   "cell_type": "code",
   "execution_count": 316,
   "metadata": {},
   "outputs": [],
   "source": [
    "def sort_by_pivot(arr, start, end):\n",
    "    '''\n",
    "        * Uses the concept of QUICKSELECT and ORDER STATISTICS, and chooses a random element 'pivot' \n",
    "        and puts it at a postion 'i', where arr[i] >= arr[j] for all (j < i) and arr[i] <= arr[k] for \n",
    "        all (k > i).\n",
    "        * Or Returns the index of 'pivot-th' smallest element of the 'arr'.\n",
    "        * Time Complexity = O(n)\n",
    "        \n",
    "        Arguments\n",
    "        ---------\n",
    "        arr: list\n",
    "            Array of shape (m, ), where m is the number of elements in the list\n",
    "        \n",
    "        start, end: int, int\n",
    "            Start and end index of arr between which you want to find pivot and sort it accordingly\n",
    "        \n",
    "        Returns\n",
    "        -------\n",
    "        pivot: int\n",
    "            Current position of the correctly sorted pivot in the arr. Element at 'pivot' \n",
    "            will be the 'pivot-th' smallest element in arr.\n",
    "    '''\n",
    "    pivot = random.randint(start,end)\n",
    "    pivot_val = arr[pivot]['distance']\n",
    "    i = -1\n",
    "    j = end\n",
    "    temp = arr[pivot]\n",
    "    arr[pivot] = arr[j]\n",
    "    arr[j] = temp\n",
    "    i_start = True\n",
    "    while True:\n",
    "        if i_start:\n",
    "            i = i + 1\n",
    "            if arr[i]['distance'] >= pivot_val:\n",
    "                i_start = False\n",
    "        if i == j:\n",
    "            t = arr[i]\n",
    "            arr[i] = arr[end]\n",
    "            arr[end] = t\n",
    "            break\n",
    "        if not i_start:\n",
    "            j = j - 1\n",
    "        if arr[j]['distance'] < pivot_val and not i_start:\n",
    "            t = arr[i]\n",
    "            arr[i] = arr[j]\n",
    "            arr[j] = t\n",
    "            i_start = True\n",
    "    pivot = i\n",
    "    return pivot\n",
    "\n",
    "def get_KNN(arr, k):\n",
    "    '''\n",
    "        * Uses the concept of QUICKSELECT and ORDER STATISTICS, and returns the 'k' smallest elements from the 'arr'.\n",
    "        * Time Complexity = O(n)\n",
    "        \n",
    "        Arguments\n",
    "        ---------\n",
    "        arr: list\n",
    "            Array of shape (m, ), where m is the number of elements in the list\n",
    "        \n",
    "        k: int\n",
    "            The number of smallest elements that are to be returned.\n",
    "        \n",
    "        Returns\n",
    "        -------\n",
    "        pivot: int\n",
    "            Current position of the correctly sorted pivot in the arr. Element at 'pivot' \n",
    "            will be the 'pivot-th' smallest element in arr.\n",
    "    '''\n",
    "    if k > len(arr):\n",
    "        return \"Invalid Input\"\n",
    "    start = 0\n",
    "    end = len(arr) - 1\n",
    "    while True:\n",
    "        if start == end or (np.abs(start-end) == 1 and arr[start] == arr[end]):\n",
    "            return arr[0:k]\n",
    "        index = sort_by_pivot(arr, start, end)\n",
    "        if index == (k - 1):\n",
    "            return arr[0:k]\n",
    "        elif index < (k - 1):\n",
    "            start = index + 1\n",
    "        else:\n",
    "            end = index - 1\n",
    "            \n",
    "def get_max_label(arr, num_classes):\n",
    "    '''\n",
    "        Returns the label that occurs the most in the 'arr'.\n",
    "        \n",
    "        Arguments\n",
    "        ---------\n",
    "        arr: list\n",
    "            Array of shape (m, ), where m is the number of elements in the list\n",
    "        \n",
    "        num_classes: int\n",
    "            Number of classes in the dataset\n",
    "        \n",
    "        Returns\n",
    "        -------\n",
    "        label: int\n",
    "            The encoded label of the most occured label in the 'arr'\n",
    "    '''\n",
    "    label = None\n",
    "    label_count = np.zeros(num_classes)\n",
    "    for x in arr:\n",
    "        label_count[x['label']] += 1\n",
    "    label = np.argmax(label_count)\n",
    "    return label"
   ]
  },
  {
   "cell_type": "code",
   "execution_count": 317,
   "metadata": {},
   "outputs": [],
   "source": [
    "def predict_label(train, d, k, num_classes):\n",
    "    '''\n",
    "        Applys KNN Algorithm and predicts the label of 'd' instance\n",
    "        \n",
    "        Arguments\n",
    "        ---------\n",
    "        train: list of JSON Objects\n",
    "            Array of shape (m, ), where m is number of training examples and every element is a JSON object with \n",
    "            2 keys 'features' that is a NUMPY array of shape (n, ) where n is the number of features and \n",
    "            'label' is an integer representing encoded label of that instance\n",
    "            \n",
    "        d: JSON Object\n",
    "            A JSON object with 2 keys, 'features' that is a NUMPY array of shape (n, ) where n is the number of \n",
    "            features and 'label' is an integer representing encoded label of that instance\n",
    "        \n",
    "        k: int\n",
    "            The number of smallest elements that are to be returned.\n",
    "            \n",
    "        num_classes: int\n",
    "            Number of classes in the dataset\n",
    "        \n",
    "        Returns\n",
    "        -------\n",
    "        y_cap: int\n",
    "            The predicted and encoded label of 'd'\n",
    "    '''\n",
    "    y_cap = None\n",
    "    distances = np.array([{'distance': np.linalg.norm(x['features']-d['features']), 'label': x['label']} for x in train])# O(mn)\n",
    "    KNN = get_KNN(distances, k) # O(n)\n",
    "    y_cap = get_max_label(KNN, num_classes) # O(k)\n",
    "    return y_cap"
   ]
  },
  {
   "cell_type": "code",
   "execution_count": 318,
   "metadata": {},
   "outputs": [],
   "source": [
    "def testKNN(train, test, k, num_classes):\n",
    "    '''\n",
    "        Applys KNN Algorithm and predicts the labels of all test dataset and builds a confusion matrix\n",
    "        \n",
    "        Arguments\n",
    "        ---------\n",
    "        train: list of JSON Objects\n",
    "            Array of shape (m, ), where m is number of training examples and every element is a JSON object with \n",
    "            2 keys 'features' that is a NUMPY array of shape (n, ) where n is the number of features and \n",
    "            'label' is an integer representing encoded label of that instance\n",
    "            \n",
    "        test: list of JSON Objects\n",
    "            Array of shape (m, ), where m is number of testing instances and every element is a JSON object with \n",
    "            2 keys 'features' that is a NUMPY array of shape (n, ) where n is the number of features and \n",
    "            'label' is an integer representing encoded label of that instance\n",
    "        \n",
    "        k: int\n",
    "            The number of smallest elements that are to be returned.\n",
    "            \n",
    "        num_classes: int\n",
    "            Number of classes in the dataset\n",
    "        \n",
    "        Returns\n",
    "        -------\n",
    "        cm: numpy array\n",
    "            Array of shape (k, k), where k is the number of classes\n",
    "    '''\n",
    "    cm = np.zeros((num_classes, num_classes))\n",
    "    \n",
    "    for d in test:\n",
    "        pred_c = predict_label(train, d, k, num_classes)\n",
    "        cm[pred_c][d['label']] += 1\n",
    "    \n",
    "    return cm"
   ]
  },
  {
   "cell_type": "code",
   "execution_count": 319,
   "metadata": {},
   "outputs": [],
   "source": [
    "def evaluation_matrix(cm, classes):\n",
    "    '''\n",
    "        Plots confusion matrix and calculates Macro accuracy, precision, recall, f1 score\n",
    "\n",
    "        Arguments\n",
    "        ---------\n",
    "        cm: numpy array\n",
    "            Array of shape (k, k), where k is the number of classes\n",
    "            \n",
    "        classes: list\n",
    "            Array of encoded labels of shape (c, ), where c is the number of classes\n",
    "    '''\n",
    "    df_cm = pd.DataFrame(cm, index = [i for i in classes],\n",
    "              columns = [i for i in classes])\n",
    "    sn.set(font_scale=1.4)\n",
    "    sn.heatmap(df_cm, annot=True, annot_kws={\"size\": 16}, fmt='g', cmap=\"BuPu\")\n",
    "    plt.show()\n",
    "    # Calculating Accuracy\n",
    "    accuracy = np.sum(np.array([cm[i][i] for i in range(len(cm))])) / np.sum(cm)\n",
    "    print(\"\\n\\nAccuracy = %.2f\" % (accuracy))"
   ]
  },
  {
   "cell_type": "markdown",
   "metadata": {},
   "source": [
    "### Evaluation Report"
   ]
  },
  {
   "cell_type": "markdown",
   "metadata": {},
   "source": [
    "* ***For K = 1***"
   ]
  },
  {
   "cell_type": "code",
   "execution_count": 320,
   "metadata": {},
   "outputs": [
    {
     "data": {
      "image/png": "[encoded data removed]",
      "text/plain": [
       "<Figure size 432x288 with 2 Axes>"
      ]
     },
     "metadata": {},
     "output_type": "display_data"
    },
    {
     "name": "stdout",
     "output_type": "stream",
     "text": [
      "\n",
      "\n",
      "Accuracy = 1.00\n"
     ]
    }
   ],
   "source": [
    "cm = testKNN(train, test, 1, len(classes))\n",
    "evaluation_matrix(cm, classes)"
   ]
  },
  {
   "cell_type": "markdown",
   "metadata": {},
   "source": [
    "* ***For K = 3***"
   ]
  },
  {
   "cell_type": "code",
   "execution_count": 321,
   "metadata": {},
   "outputs": [
    {
     "data": {
      "image/png": "[encoded data removed]",
      "text/plain": [
       "<Figure size 432x288 with 2 Axes>"
      ]
     },
     "metadata": {},
     "output_type": "display_data"
    },
    {
     "name": "stdout",
     "output_type": "stream",
     "text": [
      "\n",
      "\n",
      "Accuracy = 1.00\n"
     ]
    }
   ],
   "source": [
    "cm = testKNN(train, test, 3, len(classes))\n",
    "evaluation_matrix(cm, classes)"
   ]
  },
  {
   "cell_type": "markdown",
   "metadata": {},
   "source": [
    "* ***For K = 5***"
   ]
  },
  {
   "cell_type": "code",
   "execution_count": 322,
   "metadata": {},
   "outputs": [
    {
     "data": {
      "image/png": "[encoded data removed]",
      "text/plain": [
       "<Figure size 432x288 with 2 Axes>"
      ]
     },
     "metadata": {},
     "output_type": "display_data"
    },
    {
     "name": "stdout",
     "output_type": "stream",
     "text": [
      "\n",
      "\n",
      "Accuracy = 1.00\n"
     ]
    }
   ],
   "source": [
    "cm = testKNN(train, test, 5, len(classes))\n",
    "evaluation_matrix(cm, classes)"
   ]
  }
 ],
 "metadata": {
  "kernelspec": {
   "display_name": "Python 3",
   "language": "python",
   "name": "python3"
  },
  "language_info": {
   "codemirror_mode": {
    "name": "ipython",
    "version": 3
   },
   "file_extension": ".py",
   "mimetype": "text/x-python",
   "name": "python",
   "nbconvert_exporter": "python",
   "pygments_lexer": "ipython3",
   "version": "3.7.3"
  }
 },
 "nbformat": 4,
 "nbformat_minor": 2
}
